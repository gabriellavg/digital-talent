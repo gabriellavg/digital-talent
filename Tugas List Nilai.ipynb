{
 "cells": [
  {
   "cell_type": "markdown",
   "metadata": {},
   "source": [
    "# Tugas List Nilai\n",
    "\n",
    "Diberikan sekumpulan Nilai Random antara 0 sampai dengan 100 sebanyak 250 nilai. Buatlah program untuk melakukan hal berikut:\n",
    "1. Tampilkan Angka Ganjil dari ke 250 nilai tersebut\n",
    "2. Tampilkan berapa banyak yang mendapatkan nilai lebih dari 70\n",
    "3. Tampilkan standar deviasi dari sekumpulan nilai tersebut\n",
    "4. Tampilkan nilai maksimum dan minimum\n",
    "5. Tampilkan modus dari sekumpulan nilai tersebut"
   ]
  },
  {
   "cell_type": "code",
   "execution_count": 1,
   "metadata": {},
   "outputs": [
    {
     "name": "stdout",
     "output_type": "stream",
     "text": [
      "[85, 52, 56, 57, 9, 53, 48, 58, 4, 54, 90, 27, 2, 43, 69, 46, 81, 66, 71, 74, 92, 59, 64, 36, 60, 73, 26, 1, 94, 16, 13, 49, 16, 17, 31, 88, 62, 42, 33, 87, 31, 19, 50, 23, 84, 99, 56, 16, 86, 16, 34, 87, 53, 21, 29, 39, 75, 18, 99, 76, 64, 83, 12, 80, 26, 2, 35, 7, 16, 86, 33, 22, 51, 59, 48, 38, 68, 83, 32, 18, 7, 39, 67, 5, 50, 22, 43, 4, 30, 61, 83, 21, 46, 74, 7, 82, 15, 60, 40, 24, 14, 64, 99, 48, 7, 39, 88, 88, 97, 52, 43, 74, 29, 31, 45, 49, 69, 97, 52, 28, 80, 49, 52, 87, 96, 97, 75, 87, 99, 36, 85, 54, 44, 44, 27, 22, 22, 76, 46, 79, 77, 34, 46, 4, 7, 12, 44, 48, 98, 7, 71, 94, 43, 21, 62, 50, 22, 30, 91, 27, 32, 4, 73, 14, 16, 62, 18, 94, 3, 15, 9, 16, 11, 8, 14, 96, 82, 91, 89, 7, 6, 75, 34, 76, 86, 47, 11, 76, 94, 41, 14, 82, 12, 79, 28, 62, 69, 51, 19, 74, 32, 65, 86, 86, 42, 27, 1, 76, 28, 80, 42, 83, 18, 75, 90, 66, 44, 27, 32, 6, 86, 97, 66, 72, 2, 84, 58, 70, 78, 72, 39, 36, 3, 36, 46, 20, 89, 79, 4, 69, 60, 26, 87, 94, 22, 30, 61, 30, 15, 86]\n",
      "\n",
      "Angka ganjil:  [85, 57, 9, 53, 27, 43, 69, 81, 71, 59, 73, 1, 13, 49, 17, 31, 33, 87, 31, 19, 23, 99, 87, 53, 21, 29, 39, 75, 99, 83, 35, 7, 33, 51, 59, 83, 7, 39, 67, 5, 43, 61, 83, 21, 7, 15, 99, 7, 39, 97, 43, 29, 31, 45, 49, 69, 97, 49, 87, 97, 75, 87, 99, 85, 27, 79, 77, 7, 7, 71, 43, 21, 91, 27, 73, 3, 15, 9, 11, 91, 89, 7, 75, 47, 11, 41, 79, 69, 51, 19, 65, 27, 1, 83, 75, 27, 97, 39, 3, 89, 79, 69, 87, 61, 15]\n",
      "\n",
      "Banyak yang mendapatkan nilai lebih dari 70:  77\n",
      "\n",
      "Standar deviasi:  29.003174722778184\n",
      "\n",
      "Nilai maksimum:  99\n",
      "\n",
      "Nilai minimum:  1\n",
      "\n",
      "Modus: nilai  [7, 16, 86] , dengan frekuensi:  7\n"
     ]
    }
   ],
   "source": [
    "import random\n",
    "\n",
    "# GENERATE RANDOM\n",
    "nilaiTugas = []\n",
    "for i in range(250):\n",
    "    nilaiTugas.append(random.randrange(1,100,1))\n",
    "\n",
    "print(nilaiTugas)\n",
    "\n",
    "# Pemrosesan\n",
    "angkaGanjil = []\n",
    "nilaiLebih70 = jlhKuadrat = nilaiMaks = 0\n",
    "nilaiMin = 100\n",
    "mean = sum(nilaiTugas)/len(nilaiTugas)\n",
    "jlhKuadrat = 0\n",
    "frekuensiNilai = [0] * 100 # List dengan lenght 100, nilai 1 ada di index 0, nilai 2 ada di index 1, dst\n",
    "\n",
    "for nilai in nilaiTugas :\n",
    "    if (nilai % 2 == 1) : # Cek angka ganjil\n",
    "        angkaGanjil.append(nilai)\n",
    "    if (nilai > 70) : # Cek nilai > 70\n",
    "        nilaiLebih70 += 1\n",
    "    if (nilai > nilaiMaks) : # Cek nilai maks\n",
    "        nilaiMaks = nilai\n",
    "    if (nilai < nilaiMin) : # Cek nilai min\n",
    "        nilaiMin = nilai\n",
    "    # Bagian perhitungan standar deviasi\n",
    "    jlhKuadrat += (nilai - mean) ** 2\n",
    "    # Tambah frekuensi untuk nilai\n",
    "    frekuensiNilai[nilai - 1] += 1\n",
    "\n",
    "# Hitung standar deviasi\n",
    "stDeviasi = (jlhKuadrat / len(nilaiTugas)) ** 0.5\n",
    "\n",
    "# Cari modus\n",
    "frekuensiMaks = 0\n",
    "nilaiModus = []\n",
    "i = 1\n",
    "for frekuensi in frekuensiNilai :\n",
    "    if (frekuensi >= frekuensiMaks) :\n",
    "        if (frekuensi > frekuensiMaks) :\n",
    "            frekuensiMaks = frekuensi\n",
    "            nilaiModus.clear()\n",
    "        nilaiModus.append(i)\n",
    "    i += 1\n",
    "\n",
    "# TAMPILKAN:\n",
    "# ganjil\n",
    "print ('\\nAngka ganjil: ', angkaGanjil)\n",
    "\n",
    "# nilai > 70\n",
    "print ('\\nBanyak yang mendapatkan nilai lebih dari 70: ', nilaiLebih70)\n",
    "\n",
    "# standar deviasi\n",
    "print ('\\nStandar deviasi: ', stDeviasi)\n",
    "\n",
    "# maksimum\n",
    "print ('\\nNilai maksimum: ', nilaiMaks)\n",
    "\n",
    "# minimum\n",
    "print ('\\nNilai minimum: ', nilaiMin)\n",
    "\n",
    "# modus\n",
    "print ('\\nModus: nilai ', nilaiModus, \", dengan frekuensi: \", frekuensiMaks)"
   ]
  }
 ],
 "metadata": {
  "kernelspec": {
   "display_name": "Python 3",
   "language": "python",
   "name": "python3"
  },
  "language_info": {
   "codemirror_mode": {
    "name": "ipython",
    "version": 3
   },
   "file_extension": ".py",
   "mimetype": "text/x-python",
   "name": "python",
   "nbconvert_exporter": "python",
   "pygments_lexer": "ipython3",
   "version": "3.7.0"
  }
 },
 "nbformat": 4,
 "nbformat_minor": 2
}
