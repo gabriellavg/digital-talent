{
 "cells": [
  {
   "cell_type": "markdown",
   "metadata": {},
   "source": [
    "## Narasi Deskriptif Dataset Iris\n",
    "Dataset Iris berisikan 150 data yang terbagi dalam 3 kelas yang merepresentasikan tipe bunga Iris. Tiap kelas memiliki 50 _instance_ bunga Iris yang masing-masing memiliki empat atribut, yakni panjang sepal, lebar sepal, panjang petal, dan lebar petal.\n",
    "\n",
    "Berdasarkan hasil olahan dataset Iris ini, diperoleh beberapa informasi mengenai tiap tipe bunga Iris sebagai berikut:\n",
    "+ Bunga Iris tipe __setosa__ memiliki panjang sepal antara 4,3 - 5,8 cm dengan rata-rata 5,006 cm; lebar sepal antara 2,3 - 4,4 cm dengan rata-rata 3,418 cm. Iris setosa memiliki panjang petal antara 1,0 - 1,9 cm dengan rata-rata 1,464 cm; lebar petal antara 0,1 - 0,6 cm dengan rata-rata 0,244 cm.\n",
    "+ Bunga Iris tipe __versicolor__ memiliki panjang sepal antara 4,9 - 7,0 cm dengan rata-rata 5,936 cm; lebar sepal antara 2,0 - 3,4 cm dengan rata-rata 2,77 cm. Iris versicolor memiliki panjang petal antara 3,0 - 5,1 cm dengan rata-rata 4,26 cm; lebar petal antara 1,0 - 1,8 cm dengan rata-rata 1,326 cm.\n",
    "+ Bunga Iris tipe __virginica__ memiliki panjang sepal antara 4,9 - 7,9 cm dengan rata-rata 6,588 cm; lebar sepal antara 2,2 - 3,8 cm dengan rata-rata 2,974 cm. Iris virginica memiliki panjang petal antara 4,5 - 6,9 cm dengan rata-rata 5,552 cm; lebar petal antara 1,4 - 2,5 cm dengan rata-rata 2,026 cm.\n",
    "+ Bunga Iris jenis virginica memiliki sepal dan petal terpanjang, serta petal terlebar. Bunga Iris jenis setosa memiliki sepal dan petal terpendek, serta memiliki lebar petal terkecil, namun memiliki sepal terlebar. "
   ]
  },
  {
   "cell_type": "code",
   "execution_count": null,
   "metadata": {},
   "outputs": [],
   "source": []
  }
 ],
 "metadata": {
  "kernelspec": {
   "display_name": "Python 3",
   "language": "python",
   "name": "python3"
  },
  "language_info": {
   "codemirror_mode": {
    "name": "ipython",
    "version": 3
   },
   "file_extension": ".py",
   "mimetype": "text/x-python",
   "name": "python",
   "nbconvert_exporter": "python",
   "pygments_lexer": "ipython3",
   "version": "3.6.6"
  }
 },
 "nbformat": 4,
 "nbformat_minor": 2
}
