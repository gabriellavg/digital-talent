{
 "cells": [
  {
   "cell_type": "markdown",
   "metadata": {},
   "source": [
    "# LATIHAN\n",
    "\n",
    "\n",
    "Body Mass Index (BMI) menentukan sebuah keidealan berat badan terhadap tinggi badan. Berikut adalah formula dari BMI : BMI = weight (kg) ÷ height^2 (m^2)\n",
    "\n",
    "Berikut adalah kategorisasi BMI\n",
    "\n",
    "| BMI                 | Kategori BMI             |   |\n",
    "|---------------------|---------------------------|---|\n",
    "| Kurang dari 15        | Very severely underweight |   |\n",
    "| Diantara 15 dan 16   | Severely underweight      |   |\n",
    "| Diantara 16 dan 18.5 | Underweight               |   |\n",
    "| Diantara 18.5 dan 25 | Normal (healthy weight)   |   |\n",
    "| Diantara 25 dan 30   | Overweight                |   |\n",
    "| Diantara 30 dan 35   | Moderately obese          |   |\n",
    "| Diantara 35 dan 40   | Severely obese            |   |\n",
    "| Over 40             | Very severely obese       |   |\n",
    "\n",
    "Buatlah sebuah program yang memiliki dua variabel berat badan dengan satuan KG, dan tinggi badan dengan satuan CM, kemudian keluaran dari program adalah Kategori BMI"
   ]
  },
  {
   "cell_type": "code",
   "execution_count": 6,
   "metadata": {},
   "outputs": [
    {
     "name": "stdout",
     "output_type": "stream",
     "text": [
      "BMI =  20.811654526534856\n",
      "Kategori BMI =  Normal (healthy weight)\n"
     ]
    }
   ],
   "source": [
    "weight = 50\n",
    "height = 155\n",
    "\n",
    "bmi = weight/((height/100)**2)\n",
    "print ('BMI = ', bmi)\n",
    "\n",
    "if bmi < 15 :\n",
    "    kategori = 'Very severely underweight'\n",
    "elif bmi >= 15 and bmi < 16 :\n",
    "    kategori = 'Severely underweight'\n",
    "elif bmi >= 16 and bmi < 18.5 :\n",
    "    kategori = 'Underweight'\n",
    "elif bmi >= 18.5 and bmi < 25 :\n",
    "    kategori = 'Normal (healthy weight)'\n",
    "elif bmi >= 25 and bmi < 30 :\n",
    "    kategori = 'Overweight'\n",
    "elif bmi >= 30 and bmi < 35 :\n",
    "    kategori  = 'Moderately obese'\n",
    "elif bmi >= 35 and bmi < 40 :\n",
    "    kategori = 'Severly obese'\n",
    "else :\n",
    "    kategori = 'Very severely obese'\n",
    "print ('Kategori BMI = ', kategori)"
   ]
  }
 ],
 "metadata": {
  "kernelspec": {
   "display_name": "Python 3",
   "language": "python",
   "name": "python3"
  },
  "language_info": {
   "codemirror_mode": {
    "name": "ipython",
    "version": 3
   },
   "file_extension": ".py",
   "mimetype": "text/x-python",
   "name": "python",
   "nbconvert_exporter": "python",
   "pygments_lexer": "ipython3",
   "version": "3.7.0"
  }
 },
 "nbformat": 4,
 "nbformat_minor": 2
}
