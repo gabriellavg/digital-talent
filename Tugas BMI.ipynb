{
 "cells": [
  {
   "cell_type": "markdown",
   "metadata": {},
   "source": [
    "# Tugas BMI"
   ]
  },
  {
   "cell_type": "code",
   "execution_count": 5,
   "metadata": {},
   "outputs": [
    {
     "name": "stdout",
     "output_type": "stream",
     "text": [
      "BMI anda: 22.21367849972233 , termasuk dalam kategori Normal (healthy weight) .\n"
     ]
    }
   ],
   "source": [
    "weight = 52\n",
    "height = 153\n",
    "\n",
    "bmi = weight/((height/100)**2)\n",
    "\n",
    "if bmi < 15 :\n",
    "    kategori = 'Very severely underweight'\n",
    "elif bmi >= 15 and bmi < 16 :\n",
    "    kategori = 'Severely underweight'\n",
    "elif bmi >= 16 and bmi < 18.5 :\n",
    "    kategori = 'Underweight'\n",
    "elif bmi >= 18.5 and bmi < 25 :\n",
    "    kategori = 'Normal (healthy weight)'\n",
    "elif bmi >= 25 and bmi < 30 :\n",
    "    kategori = 'Overweight'\n",
    "elif bmi >= 30 and bmi < 35 :\n",
    "    kategori  = 'Moderately obese'\n",
    "elif bmi >= 35 and bmi < 40 :\n",
    "    kategori = 'Severly obese'\n",
    "else :\n",
    "    kategori = 'Very severely obese'\n",
    "print ('BMI anda:', bmi, ', termasuk dalam kategori', kategori, '.')"
   ]
  }
 ],
 "metadata": {
  "kernelspec": {
   "display_name": "Python 3",
   "language": "python",
   "name": "python3"
  },
  "language_info": {
   "codemirror_mode": {
    "name": "ipython",
    "version": 3
   },
   "file_extension": ".py",
   "mimetype": "text/x-python",
   "name": "python",
   "nbconvert_exporter": "python",
   "pygments_lexer": "ipython3",
   "version": "3.7.0"
  }
 },
 "nbformat": 4,
 "nbformat_minor": 2
}
