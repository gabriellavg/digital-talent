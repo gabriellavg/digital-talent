{
 "cells": [
  {
   "cell_type": "markdown",
   "metadata": {},
   "source": [
    "# Tugas Analisis Tingkat Inflasi"
   ]
  },
  {
   "cell_type": "code",
   "execution_count": 128,
   "metadata": {},
   "outputs": [],
   "source": [
    "import pandas as pd\n",
    "\n",
    "data = pd.read_csv('data_inflasi.csv', delimiter = ',', encoding = \"UTF-8\")"
   ]
  },
  {
   "cell_type": "code",
   "execution_count": 129,
   "metadata": {},
   "outputs": [
    {
     "data": {
      "text/html": [
       "<div>\n",
       "<style scoped>\n",
       "    .dataframe tbody tr th:only-of-type {\n",
       "        vertical-align: middle;\n",
       "    }\n",
       "\n",
       "    .dataframe tbody tr th {\n",
       "        vertical-align: top;\n",
       "    }\n",
       "\n",
       "    .dataframe thead th {\n",
       "        text-align: right;\n",
       "    }\n",
       "</style>\n",
       "<table border=\"1\" class=\"dataframe\">\n",
       "  <thead>\n",
       "    <tr style=\"text-align: right;\">\n",
       "      <th></th>\n",
       "      <th>tahun</th>\n",
       "      <th>inflasi_jakarta</th>\n",
       "      <th>inflasi_nasional</th>\n",
       "    </tr>\n",
       "  </thead>\n",
       "  <tbody>\n",
       "    <tr>\n",
       "      <th>0</th>\n",
       "      <td>2006</td>\n",
       "      <td>6.03</td>\n",
       "      <td>6.60</td>\n",
       "    </tr>\n",
       "    <tr>\n",
       "      <th>1</th>\n",
       "      <td>2007</td>\n",
       "      <td>6.04</td>\n",
       "      <td>6.59</td>\n",
       "    </tr>\n",
       "    <tr>\n",
       "      <th>2</th>\n",
       "      <td>2008</td>\n",
       "      <td>11.11</td>\n",
       "      <td>11.06</td>\n",
       "    </tr>\n",
       "    <tr>\n",
       "      <th>3</th>\n",
       "      <td>2009</td>\n",
       "      <td>2.34</td>\n",
       "      <td>2.78</td>\n",
       "    </tr>\n",
       "    <tr>\n",
       "      <th>4</th>\n",
       "      <td>2010</td>\n",
       "      <td>6.21</td>\n",
       "      <td>6.96</td>\n",
       "    </tr>\n",
       "    <tr>\n",
       "      <th>5</th>\n",
       "      <td>2011</td>\n",
       "      <td>3.97</td>\n",
       "      <td>3.79</td>\n",
       "    </tr>\n",
       "    <tr>\n",
       "      <th>6</th>\n",
       "      <td>2012</td>\n",
       "      <td>4.52</td>\n",
       "      <td>4.30</td>\n",
       "    </tr>\n",
       "  </tbody>\n",
       "</table>\n",
       "</div>"
      ],
      "text/plain": [
       "   tahun  inflasi_jakarta  inflasi_nasional\n",
       "0   2006             6.03              6.60\n",
       "1   2007             6.04              6.59\n",
       "2   2008            11.11             11.06\n",
       "3   2009             2.34              2.78\n",
       "4   2010             6.21              6.96\n",
       "5   2011             3.97              3.79\n",
       "6   2012             4.52              4.30"
      ]
     },
     "execution_count": 129,
     "metadata": {},
     "output_type": "execute_result"
    }
   ],
   "source": [
    "data"
   ]
  },
  {
   "cell_type": "markdown",
   "metadata": {},
   "source": [
    "## Deskripsi Data\n",
    "Data ini merupakan data persentase tingkat inflasi pada tahun 2006 - 2012. Pada dataset ini terdapat beberapa variabel, yakni:\n",
    "+ tahun: tahun\n",
    "+ inflasi_jakarta: persentase inflasi di Jakarta\n",
    "+ inflasi_nasional: persentase inflasi nasional\n",
    "\n",
    "Sumber: https://data.go.id/dataset/tingkat-inflasi-jakarta-dan-nasional/resource/1a70ea3f-1976-4a26-9846-caf4a6b9aec8\n",
    "\n",
    "Data yang akan dianalisis adalah data inflasi nasional untuk rentang 2008 - 2012"
   ]
  },
  {
   "cell_type": "code",
   "execution_count": 130,
   "metadata": {},
   "outputs": [
    {
     "data": {
      "text/html": [
       "<div>\n",
       "<style scoped>\n",
       "    .dataframe tbody tr th:only-of-type {\n",
       "        vertical-align: middle;\n",
       "    }\n",
       "\n",
       "    .dataframe tbody tr th {\n",
       "        vertical-align: top;\n",
       "    }\n",
       "\n",
       "    .dataframe thead th {\n",
       "        text-align: right;\n",
       "    }\n",
       "</style>\n",
       "<table border=\"1\" class=\"dataframe\">\n",
       "  <thead>\n",
       "    <tr style=\"text-align: right;\">\n",
       "      <th></th>\n",
       "      <th>tahun</th>\n",
       "      <th>inflasi_jakarta</th>\n",
       "      <th>inflasi_nasional</th>\n",
       "    </tr>\n",
       "  </thead>\n",
       "  <tbody>\n",
       "    <tr>\n",
       "      <th>2</th>\n",
       "      <td>2008</td>\n",
       "      <td>11.11</td>\n",
       "      <td>11.06</td>\n",
       "    </tr>\n",
       "    <tr>\n",
       "      <th>3</th>\n",
       "      <td>2009</td>\n",
       "      <td>2.34</td>\n",
       "      <td>2.78</td>\n",
       "    </tr>\n",
       "    <tr>\n",
       "      <th>4</th>\n",
       "      <td>2010</td>\n",
       "      <td>6.21</td>\n",
       "      <td>6.96</td>\n",
       "    </tr>\n",
       "    <tr>\n",
       "      <th>5</th>\n",
       "      <td>2011</td>\n",
       "      <td>3.97</td>\n",
       "      <td>3.79</td>\n",
       "    </tr>\n",
       "    <tr>\n",
       "      <th>6</th>\n",
       "      <td>2012</td>\n",
       "      <td>4.52</td>\n",
       "      <td>4.30</td>\n",
       "    </tr>\n",
       "  </tbody>\n",
       "</table>\n",
       "</div>"
      ],
      "text/plain": [
       "   tahun  inflasi_jakarta  inflasi_nasional\n",
       "2   2008            11.11             11.06\n",
       "3   2009             2.34              2.78\n",
       "4   2010             6.21              6.96\n",
       "5   2011             3.97              3.79\n",
       "6   2012             4.52              4.30"
      ]
     },
     "execution_count": 130,
     "metadata": {},
     "output_type": "execute_result"
    }
   ],
   "source": [
    "data = data[data['tahun'] >= 2008]\n",
    "data"
   ]
  },
  {
   "cell_type": "markdown",
   "metadata": {},
   "source": [
    "## Statistik Data"
   ]
  },
  {
   "cell_type": "code",
   "execution_count": 131,
   "metadata": {},
   "outputs": [
    {
     "name": "stdout",
     "output_type": "stream",
     "text": [
      "   tahun  inflasi_jakarta  inflasi_nasional\n",
      "2   2008            11.11             11.06\n"
     ]
    }
   ],
   "source": [
    "# Tingkat inflasi tertinggi antara tahun 2008 - 2012\n",
    "print(data[data['inflasi_nasional'] == data.inflasi_nasional.max()])"
   ]
  },
  {
   "cell_type": "code",
   "execution_count": 132,
   "metadata": {},
   "outputs": [
    {
     "name": "stdout",
     "output_type": "stream",
     "text": [
      "   tahun  inflasi_jakarta  inflasi_nasional\n",
      "3   2009             2.34              2.78\n"
     ]
    }
   ],
   "source": [
    "# Tingkat inflasi terendah antara tahun 2008 - 2012\n",
    "print(data[data['inflasi_nasional'] == data.inflasi_nasional.min()])"
   ]
  },
  {
   "cell_type": "markdown",
   "metadata": {},
   "source": [
    "## Visualisasi Sederhana"
   ]
  },
  {
   "cell_type": "code",
   "execution_count": 133,
   "metadata": {},
   "outputs": [
    {
     "data": {
      "text/plain": [
       "Text(0,0.5,'Inflasi (%)')"
      ]
     },
     "execution_count": 133,
     "metadata": {},
     "output_type": "execute_result"
    },
    {
     "data": {
      "image/png": "[encoded data removed]",
      "text/plain": [
       "<Figure size 432x288 with 1 Axes>"
      ]
     },
     "metadata": {
      "needs_background": "light"
     },
     "output_type": "display_data"
    }
   ],
   "source": [
    "data1 = data[['tahun', 'inflasi_nasional']]\n",
    "data1\n",
    "ax = data1.groupby('tahun').sum()\n",
    "ax = ax.plot(kind = 'line', title = \"Inflasi Nasional Tahun 2008 - 2012\", legend = True, fontsize = 12)\n",
    "ax.set_xlabel(\"Tahun\", fontsize = 12)\n",
    "ax.set_ylabel(\"Inflasi (%)\", fontsize = 12)\n"
   ]
  },
  {
   "cell_type": "markdown",
   "metadata": {},
   "source": [
    "Inflasi nasional akan dianalisis pula melalui perbandingan dengan BI Rate pada tahun 2008 -2012"
   ]
  },
  {
   "cell_type": "code",
   "execution_count": 138,
   "metadata": {},
   "outputs": [
    {
     "data": {
      "text/html": [
       "<div>\n",
       "<style scoped>\n",
       "    .dataframe tbody tr th:only-of-type {\n",
       "        vertical-align: middle;\n",
       "    }\n",
       "\n",
       "    .dataframe tbody tr th {\n",
       "        vertical-align: top;\n",
       "    }\n",
       "\n",
       "    .dataframe thead th {\n",
       "        text-align: right;\n",
       "    }\n",
       "</style>\n",
       "<table border=\"1\" class=\"dataframe\">\n",
       "  <thead>\n",
       "    <tr style=\"text-align: right;\">\n",
       "      <th></th>\n",
       "      <th>Tahun</th>\n",
       "      <th>BI_Rate</th>\n",
       "    </tr>\n",
       "  </thead>\n",
       "  <tbody>\n",
       "    <tr>\n",
       "      <th>0</th>\n",
       "      <td>2008</td>\n",
       "      <td>9.250000</td>\n",
       "    </tr>\n",
       "    <tr>\n",
       "      <th>1</th>\n",
       "      <td>2009</td>\n",
       "      <td>7.145833</td>\n",
       "    </tr>\n",
       "    <tr>\n",
       "      <th>2</th>\n",
       "      <td>2010</td>\n",
       "      <td>6.500000</td>\n",
       "    </tr>\n",
       "    <tr>\n",
       "      <th>3</th>\n",
       "      <td>2011</td>\n",
       "      <td>6.583333</td>\n",
       "    </tr>\n",
       "    <tr>\n",
       "      <th>4</th>\n",
       "      <td>2012</td>\n",
       "      <td>5.770833</td>\n",
       "    </tr>\n",
       "  </tbody>\n",
       "</table>\n",
       "</div>"
      ],
      "text/plain": [
       "   Tahun   BI_Rate\n",
       "0   2008  9.250000\n",
       "1   2009  7.145833\n",
       "2   2010  6.500000\n",
       "3   2011  6.583333\n",
       "4   2012  5.770833"
      ]
     },
     "execution_count": 138,
     "metadata": {},
     "output_type": "execute_result"
    }
   ],
   "source": [
    "rate = pd.read_csv('bi_rate.csv', delimiter = ',', encoding = \"UTF-8\")\n",
    "rate"
   ]
  },
  {
   "cell_type": "markdown",
   "metadata": {},
   "source": [
    "Dataset BI Rate memiliki dua variabel, yakni:\n",
    "+ Tahun: tahun\n",
    "+ BI_Rate: tingkat suku bunga acuan\n",
    "\n",
    "Sumber data: https://data.go.id/dataset/bi-rate/resource/92414739-266b-4b5c-8e0c-5e2a69d788ca"
   ]
  },
  {
   "cell_type": "code",
   "execution_count": 139,
   "metadata": {},
   "outputs": [
    {
     "data": {
      "text/plain": [
       "Text(0,0.5,'BI Rate')"
      ]
     },
     "execution_count": 139,
     "metadata": {},
     "output_type": "execute_result"
    },
    {
     "data": {
      "image/png": "[encoded data removed]",
      "text/plain": [
       "<Figure size 432x288 with 1 Axes>"
      ]
     },
     "metadata": {
      "needs_background": "light"
     },
     "output_type": "display_data"
    }
   ],
   "source": [
    "cx = rate.groupby('Tahun').sum()['BI_Rate']\n",
    "cx = cx.plot(kind = 'line', title = \"BI Rate antara Tahun 2008 - 2013\", legend = True, fontsize = 12)\n",
    "cx.set_xlabel(\"Tahun\", fontsize = 12)\n",
    "cx.set_ylabel(\"BI Rate\", fontsize = 12)"
   ]
  },
  {
   "cell_type": "markdown",
   "metadata": {},
   "source": [
    "## Analisis"
   ]
  },
  {
   "cell_type": "markdown",
   "metadata": {},
   "source": [
    "Berdasarkan data yang didapat, pada tahun 2008-2012, tingkat inflasi tertinggi terjadi pada tahun 2008 sebesar 11.06%. \n",
    "Sementara itu tingkat inflasi terendah terjadi pada tahun 2009 sebesar 2.78%. \n",
    "\n",
    "BI Rate dan inflasi akan berbanding linear dengan BI rate, dimana pada saat inflasi pemerintah dalam hal ini Bank Indonesia akan menaikan suku bunga agar masyarakat mengurangi konsumsi dan uang nya disimpan di Bank, dengan demikian inflasi dapat dikendalikan.\n",
    "\n",
    "Inflasi tertinggi terjadi pada tahun 2008, dimana pada tahun tersebut terjadi krisis keuangan di AS yang berimbas ke Indonesia (https://finance.detik.com/moneter/d-1115753/kronologi-dan-latar-belakang-krisis-finansial-global), inflasi ditahun tersebut mencapai 11.06% dan BI rate dinaikan menjadi 9,25 %. \n",
    "\n",
    "Inflasi terendah terjadi pada tahun 2009 2,78 %, karena kondisi penurunan aktivitas ekonomi akibat tekanan krisis global (https://economy.okezone.com/read/2010/01/04/20/290526/krisis-tahan-laju-inflasi-2009), sejalan dengan itu harga minyak dunia dan pangan juga cenderung turun.\n",
    "\n",
    "BI Rate di tahun 2009 masih dipertahankan di level 7,14% tidak sedrastis dengan penurunan inflasi, karena pemerintah menjaga sektor keuangan agar tidak terjadi capital flight sebagai imbas dari krisis keuangan global."
   ]
  }
 ],
 "metadata": {
  "kernelspec": {
   "display_name": "Python 3",
   "language": "python",
   "name": "python3"
  },
  "language_info": {
   "codemirror_mode": {
    "name": "ipython",
    "version": 3
   },
   "file_extension": ".py",
   "mimetype": "text/x-python",
   "name": "python",
   "nbconvert_exporter": "python",
   "pygments_lexer": "ipython3",
   "version": "3.7.0"
  }
 },
 "nbformat": 4,
 "nbformat_minor": 2
}
