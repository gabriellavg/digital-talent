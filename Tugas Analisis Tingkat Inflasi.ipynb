{
 "cells": [
  {
   "cell_type": "markdown",
   "metadata": {},
   "source": [
    "# Tugas Analisis Tingkat Inflasi"
   ]
  },
  {
   "cell_type": "code",
   "execution_count": 46,
   "metadata": {},
   "outputs": [],
   "source": [
    "import pandas as pd\n",
    "\n",
    "data = pd.read_csv('data_inflasi.csv', delimiter = ',', encoding = \"UTF-8\")\n",
    "rate = pd.read_csv('bi_rate.csv', delimiter = ',', encoding = \"UTF-8\")"
   ]
  },
  {
   "cell_type": "code",
   "execution_count": 47,
   "metadata": {},
   "outputs": [
    {
     "data": {
      "text/html": [
       "<div>\n",
       "<style scoped>\n",
       "    .dataframe tbody tr th:only-of-type {\n",
       "        vertical-align: middle;\n",
       "    }\n",
       "\n",
       "    .dataframe tbody tr th {\n",
       "        vertical-align: top;\n",
       "    }\n",
       "\n",
       "    .dataframe thead th {\n",
       "        text-align: right;\n",
       "    }\n",
       "</style>\n",
       "<table border=\"1\" class=\"dataframe\">\n",
       "  <thead>\n",
       "    <tr style=\"text-align: right;\">\n",
       "      <th></th>\n",
       "      <th>tahun</th>\n",
       "      <th>inflasi_jakarta</th>\n",
       "      <th>inflasi_nasional</th>\n",
       "    </tr>\n",
       "  </thead>\n",
       "  <tbody>\n",
       "    <tr>\n",
       "      <th>0</th>\n",
       "      <td>2006</td>\n",
       "      <td>6.03</td>\n",
       "      <td>6.60</td>\n",
       "    </tr>\n",
       "    <tr>\n",
       "      <th>1</th>\n",
       "      <td>2007</td>\n",
       "      <td>6.04</td>\n",
       "      <td>6.59</td>\n",
       "    </tr>\n",
       "    <tr>\n",
       "      <th>2</th>\n",
       "      <td>2008</td>\n",
       "      <td>11.11</td>\n",
       "      <td>11.06</td>\n",
       "    </tr>\n",
       "    <tr>\n",
       "      <th>3</th>\n",
       "      <td>2009</td>\n",
       "      <td>2.34</td>\n",
       "      <td>2.78</td>\n",
       "    </tr>\n",
       "    <tr>\n",
       "      <th>4</th>\n",
       "      <td>2010</td>\n",
       "      <td>6.21</td>\n",
       "      <td>6.96</td>\n",
       "    </tr>\n",
       "    <tr>\n",
       "      <th>5</th>\n",
       "      <td>2011</td>\n",
       "      <td>3.97</td>\n",
       "      <td>3.79</td>\n",
       "    </tr>\n",
       "    <tr>\n",
       "      <th>6</th>\n",
       "      <td>2012</td>\n",
       "      <td>4.52</td>\n",
       "      <td>4.30</td>\n",
       "    </tr>\n",
       "  </tbody>\n",
       "</table>\n",
       "</div>"
      ],
      "text/plain": [
       "   tahun  inflasi_jakarta  inflasi_nasional\n",
       "0   2006             6.03              6.60\n",
       "1   2007             6.04              6.59\n",
       "2   2008            11.11             11.06\n",
       "3   2009             2.34              2.78\n",
       "4   2010             6.21              6.96\n",
       "5   2011             3.97              3.79\n",
       "6   2012             4.52              4.30"
      ]
     },
     "execution_count": 47,
     "metadata": {},
     "output_type": "execute_result"
    }
   ],
   "source": [
    "data"
   ]
  },
  {
   "cell_type": "code",
   "execution_count": 48,
   "metadata": {},
   "outputs": [
    {
     "data": {
      "text/html": [
       "<div>\n",
       "<style scoped>\n",
       "    .dataframe tbody tr th:only-of-type {\n",
       "        vertical-align: middle;\n",
       "    }\n",
       "\n",
       "    .dataframe tbody tr th {\n",
       "        vertical-align: top;\n",
       "    }\n",
       "\n",
       "    .dataframe thead th {\n",
       "        text-align: right;\n",
       "    }\n",
       "</style>\n",
       "<table border=\"1\" class=\"dataframe\">\n",
       "  <thead>\n",
       "    <tr style=\"text-align: right;\">\n",
       "      <th></th>\n",
       "      <th>tahun</th>\n",
       "      <th>bi_rate</th>\n",
       "    </tr>\n",
       "  </thead>\n",
       "  <tbody>\n",
       "    <tr>\n",
       "      <th>0</th>\n",
       "      <td>2006</td>\n",
       "      <td>9.750000</td>\n",
       "    </tr>\n",
       "    <tr>\n",
       "      <th>1</th>\n",
       "      <td>2007</td>\n",
       "      <td>8.000000</td>\n",
       "    </tr>\n",
       "    <tr>\n",
       "      <th>2</th>\n",
       "      <td>2008</td>\n",
       "      <td>9.250000</td>\n",
       "    </tr>\n",
       "    <tr>\n",
       "      <th>3</th>\n",
       "      <td>2009</td>\n",
       "      <td>7.145833</td>\n",
       "    </tr>\n",
       "    <tr>\n",
       "      <th>4</th>\n",
       "      <td>2010</td>\n",
       "      <td>6.500000</td>\n",
       "    </tr>\n",
       "    <tr>\n",
       "      <th>5</th>\n",
       "      <td>2011</td>\n",
       "      <td>6.583333</td>\n",
       "    </tr>\n",
       "    <tr>\n",
       "      <th>6</th>\n",
       "      <td>2012</td>\n",
       "      <td>5.770833</td>\n",
       "    </tr>\n",
       "  </tbody>\n",
       "</table>\n",
       "</div>"
      ],
      "text/plain": [
       "   tahun   bi_rate\n",
       "0   2006  9.750000\n",
       "1   2007  8.000000\n",
       "2   2008  9.250000\n",
       "3   2009  7.145833\n",
       "4   2010  6.500000\n",
       "5   2011  6.583333\n",
       "6   2012  5.770833"
      ]
     },
     "execution_count": 48,
     "metadata": {},
     "output_type": "execute_result"
    }
   ],
   "source": [
    "rate"
   ]
  },
  {
   "cell_type": "markdown",
   "metadata": {},
   "source": [
    "## Deskripsi Data\n",
    "Terdapat dua buah dataset, yakni __data_inflasi__ dan __bi_rate__.\n",
    "\n",
    "__1. data_inflasi__\n",
    "\n",
    "Dataset ini merupakan data persentase tingkat inflasi pada tahun 2006 - 2012. Pada dataset ini terdapat beberapa variabel, yakni:\n",
    "+ tahun: tahun\n",
    "+ inflasi_jakarta: persentase inflasi di Jakarta\n",
    "+ inflasi_nasional: persentase inflasi nasional\n",
    "\n",
    "Sumber: https://data.go.id/dataset/tingkat-inflasi-jakarta-dan-nasional/resource/1a70ea3f-1976-4a26-9846-caf4a6b9aec8\n",
    "\n",
    "__2. bi_rate__\n",
    "\n",
    "Dataset ini merupakan data suku bunga acuan Bank Indonesia. Terdapat dua variabel pada dataset ini, yakni:\n",
    "+ Tahun: tahun\n",
    "+ BI_Rate: tingkat suku bunga acuan\n",
    "\n",
    "Pada tugas ini, yang akan dianalisis adalah data inflasi nasional. Inflasi nasional ini kemudian akan dibandingkan dengan data BI Rate untuk melihat hubungan antara tingkat inflasi nasional dengan BI Rate."
   ]
  },
  {
   "cell_type": "code",
   "execution_count": 49,
   "metadata": {},
   "outputs": [
    {
     "data": {
      "text/html": [
       "<div>\n",
       "<style scoped>\n",
       "    .dataframe tbody tr th:only-of-type {\n",
       "        vertical-align: middle;\n",
       "    }\n",
       "\n",
       "    .dataframe tbody tr th {\n",
       "        vertical-align: top;\n",
       "    }\n",
       "\n",
       "    .dataframe thead th {\n",
       "        text-align: right;\n",
       "    }\n",
       "</style>\n",
       "<table border=\"1\" class=\"dataframe\">\n",
       "  <thead>\n",
       "    <tr style=\"text-align: right;\">\n",
       "      <th></th>\n",
       "      <th>tahun</th>\n",
       "      <th>inflasi_nasional</th>\n",
       "    </tr>\n",
       "  </thead>\n",
       "  <tbody>\n",
       "    <tr>\n",
       "      <th>0</th>\n",
       "      <td>2006</td>\n",
       "      <td>6.60</td>\n",
       "    </tr>\n",
       "    <tr>\n",
       "      <th>1</th>\n",
       "      <td>2007</td>\n",
       "      <td>6.59</td>\n",
       "    </tr>\n",
       "    <tr>\n",
       "      <th>2</th>\n",
       "      <td>2008</td>\n",
       "      <td>11.06</td>\n",
       "    </tr>\n",
       "    <tr>\n",
       "      <th>3</th>\n",
       "      <td>2009</td>\n",
       "      <td>2.78</td>\n",
       "    </tr>\n",
       "    <tr>\n",
       "      <th>4</th>\n",
       "      <td>2010</td>\n",
       "      <td>6.96</td>\n",
       "    </tr>\n",
       "    <tr>\n",
       "      <th>5</th>\n",
       "      <td>2011</td>\n",
       "      <td>3.79</td>\n",
       "    </tr>\n",
       "    <tr>\n",
       "      <th>6</th>\n",
       "      <td>2012</td>\n",
       "      <td>4.30</td>\n",
       "    </tr>\n",
       "  </tbody>\n",
       "</table>\n",
       "</div>"
      ],
      "text/plain": [
       "   tahun  inflasi_nasional\n",
       "0   2006              6.60\n",
       "1   2007              6.59\n",
       "2   2008             11.06\n",
       "3   2009              2.78\n",
       "4   2010              6.96\n",
       "5   2011              3.79\n",
       "6   2012              4.30"
      ]
     },
     "execution_count": 49,
     "metadata": {},
     "output_type": "execute_result"
    }
   ],
   "source": [
    "data = data[['tahun', 'inflasi_nasional']]\n",
    "data"
   ]
  },
  {
   "cell_type": "markdown",
   "metadata": {},
   "source": [
    "## Statistik Data"
   ]
  },
  {
   "cell_type": "markdown",
   "metadata": {},
   "source": [
    "__1. Tingkat inflasi tertinggi__"
   ]
  },
  {
   "cell_type": "code",
   "execution_count": 50,
   "metadata": {},
   "outputs": [
    {
     "name": "stdout",
     "output_type": "stream",
     "text": [
      "   tahun  inflasi_nasional\n",
      "2   2008             11.06\n"
     ]
    }
   ],
   "source": [
    "inflasi_max = data.inflasi_nasional.max()\n",
    "print(data[data['inflasi_nasional'] == inflasi_max])"
   ]
  },
  {
   "cell_type": "markdown",
   "metadata": {},
   "source": [
    "__2. Tingkat inflasi terendah__"
   ]
  },
  {
   "cell_type": "code",
   "execution_count": 51,
   "metadata": {},
   "outputs": [
    {
     "name": "stdout",
     "output_type": "stream",
     "text": [
      "   tahun  inflasi_nasional\n",
      "3   2009              2.78\n"
     ]
    }
   ],
   "source": [
    "inflasi_min = data.inflasi_nasional.min()\n",
    "print(data[data['inflasi_nasional'] == inflasi_min])"
   ]
  },
  {
   "cell_type": "markdown",
   "metadata": {},
   "source": [
    "## Visualisasi Sederhana"
   ]
  },
  {
   "cell_type": "markdown",
   "metadata": {},
   "source": [
    "__1. Visualisasi persentase inflasi nasional menggunakan linechart__"
   ]
  },
  {
   "cell_type": "code",
   "execution_count": 52,
   "metadata": {},
   "outputs": [
    {
     "data": {
      "text/plain": [
       "Text(0, 0.5, 'Inflasi (%)')"
      ]
     },
     "execution_count": 52,
     "metadata": {},
     "output_type": "execute_result"
    },
    {
     "data": {
      "image/png": "[encoded data removed]",
      "text/plain": [
       "<Figure size 864x360 with 1 Axes>"
      ]
     },
     "metadata": {
      "needs_background": "light"
     },
     "output_type": "display_data"
    }
   ],
   "source": [
    "ax = data.groupby('tahun').sum()\n",
    "ax = ax.plot(kind = 'line', title = \"Inflasi Nasional Tahun 2006 - 2012\", figsize = (12,5), legend = True, fontsize = 15)\n",
    "ax.set_xlabel(\"Tahun\", fontsize = 15)\n",
    "ax.set_ylabel(\"Inflasi (%)\", fontsize = 15)"
   ]
  },
  {
   "cell_type": "code",
   "execution_count": 53,
   "metadata": {},
   "outputs": [
    {
     "data": {
      "text/plain": [
       "Text(0, 0.5, 'BI Rate (%)')"
      ]
     },
     "execution_count": 53,
     "metadata": {},
     "output_type": "execute_result"
    },
    {
     "data": {
      "image/png": "[encoded data removed]",
      "text/plain": [
       "<Figure size 864x360 with 1 Axes>"
      ]
     },
     "metadata": {
      "needs_background": "light"
     },
     "output_type": "display_data"
    }
   ],
   "source": [
    "cx = rate.groupby('tahun').sum()\n",
    "cx = cx.plot(kind = 'line', title = \"BI Rate Antara Tahun 2006 - 2012\", figsize = (12,5), legend = True, fontsize = 15)\n",
    "cx.set_xlabel(\"Tahun\", fontsize = 15)\n",
    "cx.set_ylabel(\"BI Rate (%)\", fontsize = 15)"
   ]
  },
  {
   "cell_type": "markdown",
   "metadata": {},
   "source": [
    "__3. Visualisasi gabungan antara data inflasi dan BI rate menggunakan linechart__"
   ]
  },
  {
   "cell_type": "code",
   "execution_count": 54,
   "metadata": {},
   "outputs": [
    {
     "data": {
      "text/html": [
       "<div>\n",
       "<style scoped>\n",
       "    .dataframe tbody tr th:only-of-type {\n",
       "        vertical-align: middle;\n",
       "    }\n",
       "\n",
       "    .dataframe tbody tr th {\n",
       "        vertical-align: top;\n",
       "    }\n",
       "\n",
       "    .dataframe thead th {\n",
       "        text-align: right;\n",
       "    }\n",
       "</style>\n",
       "<table border=\"1\" class=\"dataframe\">\n",
       "  <thead>\n",
       "    <tr style=\"text-align: right;\">\n",
       "      <th></th>\n",
       "      <th>tahun</th>\n",
       "      <th>inflasi_nasional</th>\n",
       "      <th>bi_rate</th>\n",
       "    </tr>\n",
       "  </thead>\n",
       "  <tbody>\n",
       "    <tr>\n",
       "      <th>0</th>\n",
       "      <td>2006</td>\n",
       "      <td>6.60</td>\n",
       "      <td>9.750000</td>\n",
       "    </tr>\n",
       "    <tr>\n",
       "      <th>1</th>\n",
       "      <td>2007</td>\n",
       "      <td>6.59</td>\n",
       "      <td>8.000000</td>\n",
       "    </tr>\n",
       "    <tr>\n",
       "      <th>2</th>\n",
       "      <td>2008</td>\n",
       "      <td>11.06</td>\n",
       "      <td>9.250000</td>\n",
       "    </tr>\n",
       "    <tr>\n",
       "      <th>3</th>\n",
       "      <td>2009</td>\n",
       "      <td>2.78</td>\n",
       "      <td>7.145833</td>\n",
       "    </tr>\n",
       "    <tr>\n",
       "      <th>4</th>\n",
       "      <td>2010</td>\n",
       "      <td>6.96</td>\n",
       "      <td>6.500000</td>\n",
       "    </tr>\n",
       "    <tr>\n",
       "      <th>5</th>\n",
       "      <td>2011</td>\n",
       "      <td>3.79</td>\n",
       "      <td>6.583333</td>\n",
       "    </tr>\n",
       "    <tr>\n",
       "      <th>6</th>\n",
       "      <td>2012</td>\n",
       "      <td>4.30</td>\n",
       "      <td>5.770833</td>\n",
       "    </tr>\n",
       "  </tbody>\n",
       "</table>\n",
       "</div>"
      ],
      "text/plain": [
       "   tahun  inflasi_nasional   bi_rate\n",
       "0   2006              6.60  9.750000\n",
       "1   2007              6.59  8.000000\n",
       "2   2008             11.06  9.250000\n",
       "3   2009              2.78  7.145833\n",
       "4   2010              6.96  6.500000\n",
       "5   2011              3.79  6.583333\n",
       "6   2012              4.30  5.770833"
      ]
     },
     "execution_count": 54,
     "metadata": {},
     "output_type": "execute_result"
    }
   ],
   "source": [
    "# Gabungkan antara data inflasi dan BI rate\n",
    "data_merge = data.merge(rate, on=['tahun'], how='inner')\n",
    "data_merge"
   ]
  },
  {
   "cell_type": "code",
   "execution_count": 55,
   "metadata": {},
   "outputs": [
    {
     "data": {
      "text/plain": [
       "Text(0, 0.5, 'Persentase Inflasi / BI Rate')"
      ]
     },
     "execution_count": 55,
     "metadata": {},
     "output_type": "execute_result"
    },
    {
     "data": {
      "image/png": "[encoded data removed]",
      "text/plain": [
       "<Figure size 1080x360 with 1 Axes>"
      ]
     },
     "metadata": {
      "needs_background": "light"
     },
     "output_type": "display_data"
    }
   ],
   "source": [
    "dx = data_merge.groupby('tahun').sum()\n",
    "dx = dx.plot(kind = 'line', title = \"Inflasi Nasional dan BI Rate Antara Tahun 2006 - 2012\", figsize = (15,5), legend = True, fontsize = 15)\n",
    "dx.set_xlabel(\"Tahun\", fontsize = 15)\n",
    "dx.set_ylabel(\"Persentase Inflasi / BI Rate\", fontsize = 15)"
   ]
  },
  {
   "cell_type": "markdown",
   "metadata": {},
   "source": [
    "## Analisis"
   ]
  },
  {
   "cell_type": "markdown",
   "metadata": {},
   "source": [
    "<div style=\"text-align: justify\">\n",
    "Berdasarkan data yang didapat, pada tahun 2008-2012, tingkat inflasi tertinggi terjadi pada tahun 2008 sebesar 11.06%. \n",
    "Sementara itu tingkat inflasi terendah terjadi pada tahun 2009 sebesar 2.78%. Inflasi akan berbanding linear dengan BI Rate, dimana pada saat inflasi pemerintah dalam hal ini Bank Indonesia akan menaikan suku bunga agar masyarakat mengurangi konsumsi dan uangnya disimpan di Bank, dengan demikian inflasi dapat dikendalikan.\n",
    "<br><br>\n",
    "Inflasi tertinggi terjadi pada tahun 2008, dimana pada tahun tersebut terjadi krisis keuangan di Amerika Serikat yang berimbas ke Indonesia (<a>https://finance.detik.com/moneter/d-1115753/kronologi-dan-latar-belakang-krisis-finansial-global</a>), inflasi ditahun tersebut mencapai 11.06% dan BI Rate dinaikan menjadi 9,25%. Inflasi terendah terjadi pada tahun 2009 2,78%, karena kondisi penurunan aktivitas ekonomi akibat tekanan krisis global (<a>https://economy.okezone.com/read/2010/01/04/20/290526/krisis-tahan-laju-inflasi-2009</a>), sejalan dengan itu harga minyak dunia dan pangan juga cenderung turun. BI Rate di tahun 2009 masih dipertahankan di level 7,14% tidak sedrastis dengan penurunan inflasi, karena pemerintah menjaga sektor keuangan agar tidak terjadi capital flight sebagai imbas dari krisis keuangan global.\n",
    "</div>"
   ]
  }
 ],
 "metadata": {
  "kernelspec": {
   "display_name": "Python 3",
   "language": "python",
   "name": "python3"
  },
  "language_info": {
   "codemirror_mode": {
    "name": "ipython",
    "version": 3
   },
   "file_extension": ".py",
   "mimetype": "text/x-python",
   "name": "python",
   "nbconvert_exporter": "python",
   "pygments_lexer": "ipython3",
   "version": "3.6.6"
  }
 },
 "nbformat": 4,
 "nbformat_minor": 2
}
